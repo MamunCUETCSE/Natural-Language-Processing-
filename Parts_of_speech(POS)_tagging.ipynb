{
  "nbformat": 4,
  "nbformat_minor": 0,
  "metadata": {
    "colab": {
      "provenance": []
    },
    "kernelspec": {
      "name": "python3",
      "display_name": "Python 3"
    },
    "language_info": {
      "name": "python"
    }
  },
  "cells": [
    {
      "cell_type": "code",
      "execution_count": 9,
      "metadata": {
        "id": "TSkGw_w7tv7_"
      },
      "outputs": [],
      "source": [
        "import spacy"
      ]
    },
    {
      "cell_type": "code",
      "source": [
        "nlp = spacy.load(\"en_core_web_sm\")"
      ],
      "metadata": {
        "id": "81bNY-m0t9SH"
      },
      "execution_count": 10,
      "outputs": []
    },
    {
      "cell_type": "code",
      "source": [
        "nlp.pipe_names  #these are the pipelines used by english language model to produce POS"
      ],
      "metadata": {
        "colab": {
          "base_uri": "https://localhost:8080/"
        },
        "id": "2KHbNwMKv57X",
        "outputId": "14fc7ace-33ba-4df6-d65e-b351639f33cb"
      },
      "execution_count": 11,
      "outputs": [
        {
          "output_type": "execute_result",
          "data": {
            "text/plain": [
              "['tok2vec', 'tagger', 'parser', 'attribute_ruler', 'lemmatizer', 'ner']"
            ]
          },
          "metadata": {},
          "execution_count": 11
        }
      ]
    },
    {
      "cell_type": "code",
      "source": [
        "doc = nlp(\"Mahedi moved to Dhaka, yesterday. But he takes all of his tools with him\")\n",
        "for token in doc:\n",
        "  print(token, \"|\", token.pos_, \"|\", spacy.explain(token.pos_))"
      ],
      "metadata": {
        "colab": {
          "base_uri": "https://localhost:8080/"
        },
        "id": "eE15gmgPuISg",
        "outputId": "00465a11-8cd9-4f7d-cdb4-798d04ed4cda"
      },
      "execution_count": 12,
      "outputs": [
        {
          "output_type": "stream",
          "name": "stdout",
          "text": [
            "Mahedi | PROPN | proper noun\n",
            "moved | VERB | verb\n",
            "to | ADP | adposition\n",
            "Dhaka | PROPN | proper noun\n",
            ", | PUNCT | punctuation\n",
            "yesterday | NOUN | noun\n",
            ". | PUNCT | punctuation\n",
            "But | CCONJ | coordinating conjunction\n",
            "he | PRON | pronoun\n",
            "takes | VERB | verb\n",
            "all | PRON | pronoun\n",
            "of | ADP | adposition\n",
            "his | PRON | pronoun\n",
            "tools | NOUN | noun\n",
            "with | ADP | adposition\n",
            "him | PRON | pronoun\n"
          ]
        }
      ]
    },
    {
      "cell_type": "code",
      "source": [
        "text =\" I spent 2 million $ for last 20 years which is really a huge amount of money!\"\n",
        "doc = nlp(text)\n",
        "for token in doc:\n",
        "  print(token,\"|\",token.pos_,\"| \", spacy.explain(token.pos_), \"|\", token.tag_, spacy.explain(token.tag_))"
      ],
      "metadata": {
        "colab": {
          "base_uri": "https://localhost:8080/"
        },
        "id": "QfC5LvGBxRqq",
        "outputId": "09a4ce5b-214e-4b2a-87d2-493213c9c6f7"
      },
      "execution_count": 13,
      "outputs": [
        {
          "output_type": "stream",
          "name": "stdout",
          "text": [
            "  | SPACE |  space | _SP whitespace\n",
            "I | PRON |  pronoun | PRP pronoun, personal\n",
            "spent | VERB |  verb | VBD verb, past tense\n",
            "2 | NUM |  numeral | CD cardinal number\n",
            "million | NUM |  numeral | CD cardinal number\n",
            "$ | SYM |  symbol | $ symbol, currency\n",
            "for | ADP |  adposition | IN conjunction, subordinating or preposition\n",
            "last | ADJ |  adjective | JJ adjective (English), other noun-modifier (Chinese)\n",
            "20 | NUM |  numeral | CD cardinal number\n",
            "years | NOUN |  noun | NNS noun, plural\n",
            "which | PRON |  pronoun | WDT wh-determiner\n",
            "is | AUX |  auxiliary | VBZ verb, 3rd person singular present\n",
            "really | ADV |  adverb | RB adverb\n",
            "a | DET |  determiner | DT determiner\n",
            "huge | ADJ |  adjective | JJ adjective (English), other noun-modifier (Chinese)\n",
            "amount | NOUN |  noun | NN noun, singular or mass\n",
            "of | ADP |  adposition | IN conjunction, subordinating or preposition\n",
            "money | NOUN |  noun | NN noun, singular or mass\n",
            "! | PUNCT |  punctuation | . punctuation mark, sentence closer\n"
          ]
        }
      ]
    },
    {
      "cell_type": "code",
      "source": [
        "text = \"He is quiet laudable\"\n",
        "doc = nlp(text)\n",
        "print(doc[0].text,\"|\", doc[0].pos_, \"|\", doc[0].tag_, spacy.explain(doc[0].tag_))"
      ],
      "metadata": {
        "id": "i5kyZaJ7xkCw",
        "colab": {
          "base_uri": "https://localhost:8080/"
        },
        "outputId": "e26d20f0-6f74-4451-c928-836d32e4d881"
      },
      "execution_count": 16,
      "outputs": [
        {
          "output_type": "stream",
          "name": "stdout",
          "text": [
            "He | PRON | PRP pronoun, personal\n"
          ]
        }
      ]
    },
    {
      "cell_type": "code",
      "source": [
        "report =\"\"\" Microsoft Corp. today announced the following results for the quarter ended December 31, 2022, as compared to the corresponding period of last fiscal year:\n",
        "\n",
        "·        Revenue was $52.7 billion and increased 2%  \n",
        "\n",
        "·        Operating income was $20.4 billion GAAP and $21.6 billion non-GAAP, and decreased 8% and 3%, respectively\n",
        "\n",
        "·        Net income was $16.4 billion GAAP and $17.4 billion non-GAAP, and decreased 12% and 7%, respectively\n",
        "\n",
        "·        Diluted earnings per share was $2.20 GAAP and $2.32 non-GAAP, and decreased 11% and 6%, respectively\n",
        "\n",
        "“The next major wave of computing is being born, as the Microsoft Cloud turns the world’s most advanced AI models into a new computing platform,” said Satya Nadella, chairman and chief executive officer of Microsoft. “We are committed to helping our customers use our platforms and tools to do more with less today and innovate for the future in the new era of AI.”\n",
        "\n",
        " \n",
        "\n",
        "“We are focused on operational excellence as we continue to invest to drive growth. Microsoft Cloud revenue was $27.1 billion, up 22% (up 29% in constant currency) year-over-year as our commercial offerings continue to drive value for our customers,” said Amy Hood, executive vice president and chief financial officer of Microsoft.\n",
        "\n",
        "The following table reconciles our financial results reported in accordance with generally accepted accounting principles (GAAP) to non-GAAP financial results. Additional information regarding our non-GAAP definition is provided below. All growth comparisons relate to the corresponding period in the last fiscal year.\"\"\"\n",
        "doc = nlp(report)\n",
        "for token in doc:\n",
        "    print(token,\"|\",token.pos_,\"| \", spacy.explain(token.pos_))"
      ],
      "metadata": {
        "colab": {
          "base_uri": "https://localhost:8080/"
        },
        "id": "jRLKf8c8Mhsi",
        "outputId": "d3a9c9d9-8ede-4bba-a0ee-cd15925edd89"
      },
      "execution_count": 21,
      "outputs": [
        {
          "output_type": "stream",
          "name": "stdout",
          "text": [
            "  | SPACE |  space\n",
            "Microsoft | PROPN |  proper noun\n",
            "Corp. | PROPN |  proper noun\n",
            "today | NOUN |  noun\n",
            "announced | VERB |  verb\n",
            "the | DET |  determiner\n",
            "following | VERB |  verb\n",
            "results | NOUN |  noun\n",
            "for | ADP |  adposition\n",
            "the | DET |  determiner\n",
            "quarter | NOUN |  noun\n",
            "ended | VERB |  verb\n",
            "December | PROPN |  proper noun\n",
            "31 | NUM |  numeral\n",
            ", | PUNCT |  punctuation\n",
            "2022 | NUM |  numeral\n",
            ", | PUNCT |  punctuation\n",
            "as | SCONJ |  subordinating conjunction\n",
            "compared | VERB |  verb\n",
            "to | ADP |  adposition\n",
            "the | DET |  determiner\n",
            "corresponding | ADJ |  adjective\n",
            "period | NOUN |  noun\n",
            "of | ADP |  adposition\n",
            "last | ADJ |  adjective\n",
            "fiscal | ADJ |  adjective\n",
            "year | NOUN |  noun\n",
            ": | PUNCT |  punctuation\n",
            "\n",
            "\n",
            " | SPACE |  space\n",
            "· | PUNCT |  punctuation\n",
            "        | SPACE |  space\n",
            "Revenue | NOUN |  noun\n",
            "was | AUX |  auxiliary\n",
            "$ | SYM |  symbol\n",
            "52.7 | NUM |  numeral\n",
            "billion | NUM |  numeral\n",
            "and | CCONJ |  coordinating conjunction\n",
            "increased | VERB |  verb\n",
            "2 | NUM |  numeral\n",
            "% | NOUN |  noun\n",
            " \n",
            "\n",
            " | SPACE |  space\n",
            "· | PUNCT |  punctuation\n",
            "        | SPACE |  space\n",
            "Operating | VERB |  verb\n",
            "income | NOUN |  noun\n",
            "was | AUX |  auxiliary\n",
            "$ | SYM |  symbol\n",
            "20.4 | NUM |  numeral\n",
            "billion | NUM |  numeral\n",
            "GAAP | NOUN |  noun\n",
            "and | CCONJ |  coordinating conjunction\n",
            "$ | SYM |  symbol\n",
            "21.6 | NUM |  numeral\n",
            "billion | NUM |  numeral\n",
            "non | NOUN |  noun\n",
            "- | NOUN |  noun\n",
            "GAAP | NOUN |  noun\n",
            ", | PUNCT |  punctuation\n",
            "and | CCONJ |  coordinating conjunction\n",
            "decreased | VERB |  verb\n",
            "8 | NUM |  numeral\n",
            "% | NOUN |  noun\n",
            "and | CCONJ |  coordinating conjunction\n",
            "3 | NUM |  numeral\n",
            "% | NOUN |  noun\n",
            ", | PUNCT |  punctuation\n",
            "respectively | ADV |  adverb\n",
            "\n",
            "\n",
            " | SPACE |  space\n",
            "· | PUNCT |  punctuation\n",
            "        | SPACE |  space\n",
            "Net | ADJ |  adjective\n",
            "income | NOUN |  noun\n",
            "was | AUX |  auxiliary\n",
            "$ | SYM |  symbol\n",
            "16.4 | NUM |  numeral\n",
            "billion | NUM |  numeral\n",
            "GAAP | NOUN |  noun\n",
            "and | CCONJ |  coordinating conjunction\n",
            "$ | SYM |  symbol\n",
            "17.4 | NUM |  numeral\n",
            "billion | NUM |  numeral\n",
            "non | NOUN |  noun\n",
            "- | NOUN |  noun\n",
            "GAAP | NOUN |  noun\n",
            ", | PUNCT |  punctuation\n",
            "and | CCONJ |  coordinating conjunction\n",
            "decreased | VERB |  verb\n",
            "12 | NUM |  numeral\n",
            "% | NOUN |  noun\n",
            "and | CCONJ |  coordinating conjunction\n",
            "7 | NUM |  numeral\n",
            "% | NOUN |  noun\n",
            ", | PUNCT |  punctuation\n",
            "respectively | ADV |  adverb\n",
            "\n",
            "\n",
            " | SPACE |  space\n",
            "· | PUNCT |  punctuation\n",
            "        | SPACE |  space\n",
            "Diluted | VERB |  verb\n",
            "earnings | NOUN |  noun\n",
            "per | ADP |  adposition\n",
            "share | NOUN |  noun\n",
            "was | AUX |  auxiliary\n",
            "$ | SYM |  symbol\n",
            "2.20 | NUM |  numeral\n",
            "GAAP | NOUN |  noun\n",
            "and | CCONJ |  coordinating conjunction\n",
            "$ | SYM |  symbol\n",
            "2.32 | NUM |  numeral\n",
            "non | NOUN |  noun\n",
            "- | NOUN |  noun\n",
            "GAAP | NOUN |  noun\n",
            ", | PUNCT |  punctuation\n",
            "and | CCONJ |  coordinating conjunction\n",
            "decreased | VERB |  verb\n",
            "11 | NUM |  numeral\n",
            "% | NOUN |  noun\n",
            "and | CCONJ |  coordinating conjunction\n",
            "6 | NUM |  numeral\n",
            "% | NOUN |  noun\n",
            ", | PUNCT |  punctuation\n",
            "respectively | ADV |  adverb\n",
            "\n",
            "\n",
            " | SPACE |  space\n",
            "“ | PUNCT |  punctuation\n",
            "The | DET |  determiner\n",
            "next | ADJ |  adjective\n",
            "major | ADJ |  adjective\n",
            "wave | NOUN |  noun\n",
            "of | ADP |  adposition\n",
            "computing | NOUN |  noun\n",
            "is | AUX |  auxiliary\n",
            "being | AUX |  auxiliary\n",
            "born | VERB |  verb\n",
            ", | PUNCT |  punctuation\n",
            "as | SCONJ |  subordinating conjunction\n",
            "the | DET |  determiner\n",
            "Microsoft | PROPN |  proper noun\n",
            "Cloud | PROPN |  proper noun\n",
            "turns | VERB |  verb\n",
            "the | DET |  determiner\n",
            "world | NOUN |  noun\n",
            "’s | PART |  particle\n",
            "most | ADV |  adverb\n",
            "advanced | ADJ |  adjective\n",
            "AI | PROPN |  proper noun\n",
            "models | NOUN |  noun\n",
            "into | ADP |  adposition\n",
            "a | DET |  determiner\n",
            "new | ADJ |  adjective\n",
            "computing | NOUN |  noun\n",
            "platform | NOUN |  noun\n",
            ", | PUNCT |  punctuation\n",
            "” | PUNCT |  punctuation\n",
            "said | VERB |  verb\n",
            "Satya | PROPN |  proper noun\n",
            "Nadella | PROPN |  proper noun\n",
            ", | PUNCT |  punctuation\n",
            "chairman | NOUN |  noun\n",
            "and | CCONJ |  coordinating conjunction\n",
            "chief | ADJ |  adjective\n",
            "executive | ADJ |  adjective\n",
            "officer | NOUN |  noun\n",
            "of | ADP |  adposition\n",
            "Microsoft | PROPN |  proper noun\n",
            ". | PUNCT |  punctuation\n",
            "“ | PUNCT |  punctuation\n",
            "We | PRON |  pronoun\n",
            "are | AUX |  auxiliary\n",
            "committed | ADJ |  adjective\n",
            "to | ADP |  adposition\n",
            "helping | VERB |  verb\n",
            "our | PRON |  pronoun\n",
            "customers | NOUN |  noun\n",
            "use | VERB |  verb\n",
            "our | PRON |  pronoun\n",
            "platforms | NOUN |  noun\n",
            "and | CCONJ |  coordinating conjunction\n",
            "tools | NOUN |  noun\n",
            "to | PART |  particle\n",
            "do | VERB |  verb\n",
            "more | ADJ |  adjective\n",
            "with | ADP |  adposition\n",
            "less | ADJ |  adjective\n",
            "today | NOUN |  noun\n",
            "and | CCONJ |  coordinating conjunction\n",
            "innovate | VERB |  verb\n",
            "for | ADP |  adposition\n",
            "the | DET |  determiner\n",
            "future | NOUN |  noun\n",
            "in | ADP |  adposition\n",
            "the | DET |  determiner\n",
            "new | ADJ |  adjective\n",
            "era | NOUN |  noun\n",
            "of | ADP |  adposition\n",
            "AI | PROPN |  proper noun\n",
            ". | PUNCT |  punctuation\n",
            "” | PUNCT |  punctuation\n",
            "\n",
            "\n",
            " \n",
            "\n",
            " | SPACE |  space\n",
            "“ | PUNCT |  punctuation\n",
            "We | PRON |  pronoun\n",
            "are | AUX |  auxiliary\n",
            "focused | VERB |  verb\n",
            "on | ADP |  adposition\n",
            "operational | ADJ |  adjective\n",
            "excellence | NOUN |  noun\n",
            "as | SCONJ |  subordinating conjunction\n",
            "we | PRON |  pronoun\n",
            "continue | VERB |  verb\n",
            "to | PART |  particle\n",
            "invest | VERB |  verb\n",
            "to | PART |  particle\n",
            "drive | VERB |  verb\n",
            "growth | NOUN |  noun\n",
            ". | PUNCT |  punctuation\n",
            "Microsoft | PROPN |  proper noun\n",
            "Cloud | PROPN |  proper noun\n",
            "revenue | NOUN |  noun\n",
            "was | AUX |  auxiliary\n",
            "$ | SYM |  symbol\n",
            "27.1 | NUM |  numeral\n",
            "billion | NUM |  numeral\n",
            ", | PUNCT |  punctuation\n",
            "up | ADV |  adverb\n",
            "22 | NUM |  numeral\n",
            "% | NOUN |  noun\n",
            "( | PUNCT |  punctuation\n",
            "up | ADV |  adverb\n",
            "29 | NUM |  numeral\n",
            "% | NOUN |  noun\n",
            "in | ADP |  adposition\n",
            "constant | ADJ |  adjective\n",
            "currency | NOUN |  noun\n",
            ") | PUNCT |  punctuation\n",
            "year | NOUN |  noun\n",
            "- | PUNCT |  punctuation\n",
            "over | ADP |  adposition\n",
            "- | PUNCT |  punctuation\n",
            "year | NOUN |  noun\n",
            "as | SCONJ |  subordinating conjunction\n",
            "our | PRON |  pronoun\n",
            "commercial | ADJ |  adjective\n",
            "offerings | NOUN |  noun\n",
            "continue | VERB |  verb\n",
            "to | PART |  particle\n",
            "drive | VERB |  verb\n",
            "value | NOUN |  noun\n",
            "for | ADP |  adposition\n",
            "our | PRON |  pronoun\n",
            "customers | NOUN |  noun\n",
            ", | PUNCT |  punctuation\n",
            "” | PUNCT |  punctuation\n",
            "said | VERB |  verb\n",
            "Amy | PROPN |  proper noun\n",
            "Hood | PROPN |  proper noun\n",
            ", | PUNCT |  punctuation\n",
            "executive | ADJ |  adjective\n",
            "vice | NOUN |  noun\n",
            "president | NOUN |  noun\n",
            "and | CCONJ |  coordinating conjunction\n",
            "chief | ADJ |  adjective\n",
            "financial | ADJ |  adjective\n",
            "officer | NOUN |  noun\n",
            "of | ADP |  adposition\n",
            "Microsoft | PROPN |  proper noun\n",
            ". | PUNCT |  punctuation\n",
            "\n",
            "\n",
            " | SPACE |  space\n",
            "The | DET |  determiner\n",
            "following | VERB |  verb\n",
            "table | NOUN |  noun\n",
            "reconciles | VERB |  verb\n",
            "our | PRON |  pronoun\n",
            "financial | ADJ |  adjective\n",
            "results | NOUN |  noun\n",
            "reported | VERB |  verb\n",
            "in | ADP |  adposition\n",
            "accordance | NOUN |  noun\n",
            "with | ADP |  adposition\n",
            "generally | ADV |  adverb\n",
            "accepted | VERB |  verb\n",
            "accounting | NOUN |  noun\n",
            "principles | NOUN |  noun\n",
            "( | PUNCT |  punctuation\n",
            "GAAP | NOUN |  noun\n",
            ") | PUNCT |  punctuation\n",
            "to | ADP |  adposition\n",
            "non | ADJ |  adjective\n",
            "- | ADJ |  adjective\n",
            "GAAP | NOUN |  noun\n",
            "financial | ADJ |  adjective\n",
            "results | NOUN |  noun\n",
            ". | PUNCT |  punctuation\n",
            "Additional | ADJ |  adjective\n",
            "information | NOUN |  noun\n",
            "regarding | VERB |  verb\n",
            "our | PRON |  pronoun\n",
            "non | ADJ |  adjective\n",
            "- | NOUN |  noun\n",
            "GAAP | NOUN |  noun\n",
            "definition | NOUN |  noun\n",
            "is | AUX |  auxiliary\n",
            "provided | VERB |  verb\n",
            "below | ADV |  adverb\n",
            ". | PUNCT |  punctuation\n",
            "All | DET |  determiner\n",
            "growth | NOUN |  noun\n",
            "comparisons | NOUN |  noun\n",
            "relate | VERB |  verb\n",
            "to | ADP |  adposition\n",
            "the | DET |  determiner\n",
            "corresponding | ADJ |  adjective\n",
            "period | NOUN |  noun\n",
            "in | ADP |  adposition\n",
            "the | DET |  determiner\n",
            "last | ADJ |  adjective\n",
            "fiscal | ADJ |  adjective\n",
            "year | NOUN |  noun\n",
            ". | PUNCT |  punctuation\n"
          ]
        }
      ]
    },
    {
      "cell_type": "markdown",
      "source": [
        "Remove unnecessary things/garbage from Text"
      ],
      "metadata": {
        "id": "oSREFQ9TRZvi"
      }
    },
    {
      "cell_type": "code",
      "source": [
        "doc = nlp(report)\n",
        "filtered_data = []\n",
        "for token in doc:\n",
        " if token.pos_ not in [\"X\",\"SPACE\",\"PUNCT\"]:\n",
        "   filtered_data.append(token)"
      ],
      "metadata": {
        "id": "lG9pvu5qRkeK"
      },
      "execution_count": 22,
      "outputs": []
    },
    {
      "cell_type": "code",
      "source": [
        "filtered_data[:50]"
      ],
      "metadata": {
        "colab": {
          "base_uri": "https://localhost:8080/"
        },
        "id": "1Bowb0IDSPS6",
        "outputId": "ff02fa51-08a5-4218-c9bd-c0b24243db7e"
      },
      "execution_count": 23,
      "outputs": [
        {
          "output_type": "execute_result",
          "data": {
            "text/plain": [
              "[Microsoft,\n",
              " Corp.,\n",
              " today,\n",
              " announced,\n",
              " the,\n",
              " following,\n",
              " results,\n",
              " for,\n",
              " the,\n",
              " quarter,\n",
              " ended,\n",
              " December,\n",
              " 31,\n",
              " 2022,\n",
              " as,\n",
              " compared,\n",
              " to,\n",
              " the,\n",
              " corresponding,\n",
              " period,\n",
              " of,\n",
              " last,\n",
              " fiscal,\n",
              " year,\n",
              " Revenue,\n",
              " was,\n",
              " $,\n",
              " 52.7,\n",
              " billion,\n",
              " and,\n",
              " increased,\n",
              " 2,\n",
              " %,\n",
              " Operating,\n",
              " income,\n",
              " was,\n",
              " $,\n",
              " 20.4,\n",
              " billion,\n",
              " GAAP,\n",
              " and,\n",
              " $,\n",
              " 21.6,\n",
              " billion,\n",
              " non,\n",
              " -,\n",
              " GAAP,\n",
              " and,\n",
              " decreased,\n",
              " 8]"
            ]
          },
          "metadata": {},
          "execution_count": 23
        }
      ]
    },
    {
      "cell_type": "markdown",
      "source": [
        "Count each parts of speech separately"
      ],
      "metadata": {
        "id": "PiFPzd6eT7SZ"
      }
    },
    {
      "cell_type": "code",
      "source": [
        "count = doc.count_by(spacy.attrs.POS)\n",
        "count\n"
      ],
      "metadata": {
        "colab": {
          "base_uri": "https://localhost:8080/"
        },
        "id": "quY5dmLXT55T",
        "outputId": "743ad57d-8055-41dd-fb47-c67a6d2502a0"
      },
      "execution_count": 25,
      "outputs": [
        {
          "output_type": "execute_result",
          "data": {
            "text/plain": [
              "{103: 12,\n",
              " 96: 15,\n",
              " 92: 73,\n",
              " 100: 31,\n",
              " 90: 13,\n",
              " 85: 22,\n",
              " 93: 25,\n",
              " 97: 38,\n",
              " 98: 4,\n",
              " 84: 29,\n",
              " 87: 10,\n",
              " 99: 8,\n",
              " 89: 14,\n",
              " 86: 8,\n",
              " 94: 5,\n",
              " 95: 9}"
            ]
          },
          "metadata": {},
          "execution_count": 25
        }
      ]
    },
    {
      "cell_type": "code",
      "source": [
        "doc.vocab[103].text"
      ],
      "metadata": {
        "colab": {
          "base_uri": "https://localhost:8080/",
          "height": 35
        },
        "id": "p3tTA5RtUkMK",
        "outputId": "e9fe061f-3212-4bbf-a724-fe4ae2c24a68"
      },
      "execution_count": 26,
      "outputs": [
        {
          "output_type": "execute_result",
          "data": {
            "text/plain": [
              "'SPACE'"
            ],
            "application/vnd.google.colaboratory.intrinsic+json": {
              "type": "string"
            }
          },
          "metadata": {},
          "execution_count": 26
        }
      ]
    },
    {
      "cell_type": "code",
      "source": [
        "for k,v in count.items(): #key value pairs in count\n",
        "  print(doc.vocab[k].text,\"|\",v)"
      ],
      "metadata": {
        "colab": {
          "base_uri": "https://localhost:8080/"
        },
        "id": "xRRNs7NxUrGN",
        "outputId": "f82c7756-7d57-42fe-996b-900c08ee50ee"
      },
      "execution_count": 31,
      "outputs": [
        {
          "output_type": "stream",
          "name": "stdout",
          "text": [
            "SPACE | 12\n",
            "PROPN | 15\n",
            "NOUN | 73\n",
            "VERB | 31\n",
            "DET | 13\n",
            "ADP | 22\n",
            "NUM | 25\n",
            "PUNCT | 38\n",
            "SCONJ | 4\n",
            "ADJ | 29\n",
            "AUX | 10\n",
            "SYM | 8\n",
            "CCONJ | 14\n",
            "ADV | 8\n",
            "PART | 5\n",
            "PRON | 9\n"
          ]
        }
      ]
    },
    {
      "cell_type": "markdown",
      "source": [
        "Extact noun and adjective from the text"
      ],
      "metadata": {
        "id": "NNkfAlxRW3dR"
      }
    },
    {
      "cell_type": "code",
      "source": [
        "doc = nlp(report)\n",
        "\n",
        "Noun_tokens = []\n",
        "adjective_tokens = []\n",
        "\n",
        "for token in doc:\n",
        "    if token.pos_ == \"NOUN\":\n",
        "        Noun_tokens.append(token)\n",
        "    elif token.pos_ == \"ADJ\":\n",
        "        adjective_tokens.append(token)"
      ],
      "metadata": {
        "id": "OQ67IrUsW3Fd"
      },
      "execution_count": 39,
      "outputs": []
    },
    {
      "cell_type": "code",
      "source": [
        "Noun_tokens[:20]\n"
      ],
      "metadata": {
        "colab": {
          "base_uri": "https://localhost:8080/"
        },
        "id": "2f6E-tfoXSBD",
        "outputId": "37791d71-f5ac-4a50-bcac-48df568d601f"
      },
      "execution_count": 40,
      "outputs": [
        {
          "output_type": "execute_result",
          "data": {
            "text/plain": [
              "[today,\n",
              " results,\n",
              " quarter,\n",
              " period,\n",
              " year,\n",
              " Revenue,\n",
              " %,\n",
              " income,\n",
              " GAAP,\n",
              " non,\n",
              " -,\n",
              " GAAP,\n",
              " %,\n",
              " %,\n",
              " income,\n",
              " GAAP,\n",
              " non,\n",
              " -,\n",
              " GAAP,\n",
              " %]"
            ]
          },
          "metadata": {},
          "execution_count": 40
        }
      ]
    },
    {
      "cell_type": "code",
      "source": [
        "adjective_tokens[:10]"
      ],
      "metadata": {
        "colab": {
          "base_uri": "https://localhost:8080/"
        },
        "id": "czhXlh-OXiwF",
        "outputId": "03b44f1c-e41f-487b-9d7b-00c31b241f60"
      },
      "execution_count": 41,
      "outputs": [
        {
          "output_type": "execute_result",
          "data": {
            "text/plain": [
              "[corresponding,\n",
              " last,\n",
              " fiscal,\n",
              " Net,\n",
              " next,\n",
              " major,\n",
              " advanced,\n",
              " new,\n",
              " chief,\n",
              " executive]"
            ]
          },
          "metadata": {},
          "execution_count": 41
        }
      ]
    }
  ]
}