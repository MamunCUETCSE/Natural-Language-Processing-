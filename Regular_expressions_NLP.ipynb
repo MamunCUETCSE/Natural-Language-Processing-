{
 "cells": [
  {
   "cell_type": "code",
   "execution_count": 1,
   "id": "f744aba6",
   "metadata": {},
   "outputs": [],
   "source": [
    "import re"
   ]
  },
  {
   "cell_type": "code",
   "execution_count": 2,
   "id": "c3385151",
   "metadata": {},
   "outputs": [],
   "source": [
    "chat1='mychat:you ask a lot of questions 12345678912, abc@xyz.com, 9998881234'\n",
    "chat2='mychat: here it is: (123)-567-8912, abc@xyz.com'\n",
    "chat3='mychat: yes, phone: 12345678912 email: abc@xyz.com'\n",
    "chat4 ='Hello, i am having an issue with my order number # 48889812'\n",
    "chat5 =' I have a problem with my order number 48889812 '\n",
    "chat6 = ' My order 48889812 is having an issue , i was charged 300$ when online it says 280$'\n",
    "info = ' Born elon reeve musk age (50)'\n",
    "text = '''Born\tElon Reeve Musk\n",
    "June 28, 1971 (age 51)\n",
    "Pretoria, Transvaal, South Africa\n",
    "Education\tUniversity of Pennsylvania (BA, BS)\n",
    "Title\t\n",
    "Founder, CEO and chief engineer of SpaceX\n",
    "CEO and product architect of Tesla, Inc.\n",
    "CEO of Twitter, Inc.\n",
    "President of the Musk Foundation\n",
    "Founder of The Boring Company and X.com (now part of PayPal)\n",
    "Co-founder of Neuralink, OpenAI and Zip2\n",
    "Spouses\t\n",
    "Justine Wilson\n",
    "​\n",
    "​(m. 2000; div. 2008)​\n",
    "Talulah Riley\n",
    "​\n",
    "​(m. 2010; div. 2012)​\n",
    "​\n",
    "​(m. 2013; div. \n",
    "'''"
   ]
  },
  {
   "cell_type": "code",
   "execution_count": 3,
   "id": "fbbd186b",
   "metadata": {},
   "outputs": [
    {
     "data": {
      "text/plain": [
       "[' elon reeve musk age (50)']"
      ]
     },
     "execution_count": 3,
     "metadata": {},
     "output_type": "execute_result"
    }
   ],
   "source": [
    "pattern = '\\d{10}|\\(\\d{3}\\)-\\d{3}-\\d{4}'\n",
    "pattern1 = '[a-z0-9A-z_]*@[a-zA-z]*\\.[a-zA-z]*'\n",
    "pattern2 = 'order[^\\d]*(\\d*)'# evrything without integer value\n",
    "pattern3 = 'Born(.*)' #. means any character * means any number of times\n",
    "                     #plus means one or more\n",
    "matches = re.findall(pattern, chat3)\n",
    "matches\n",
    "matches1 = re.findall(pattern1, chat1)\n",
    "matches1\n",
    "matches2 = re.findall(pattern2, chat4)\n",
    "matches2\n",
    "matches3 = re.findall(pattern3,info)\n",
    "matches3"
   ]
  },
  {
   "cell_type": "code",
   "execution_count": 4,
   "id": "7736b3fa",
   "metadata": {},
   "outputs": [],
   "source": [
    "def get_pattern_match(pattern, chat6):\n",
    "    matches= re.findall(pattern, chat6)\n",
    "    if matches:\n",
    "        return matches[0]"
   ]
  },
  {
   "cell_type": "code",
   "execution_count": 5,
   "id": "0e46b1b6",
   "metadata": {},
   "outputs": [
    {
     "data": {
      "text/plain": [
       "'48889812'"
      ]
     },
     "execution_count": 5,
     "metadata": {},
     "output_type": "execute_result"
    }
   ],
   "source": [
    "get_pattern_match(pattern2,chat5)"
   ]
  },
  {
   "cell_type": "code",
   "execution_count": 6,
   "id": "0d2776ed",
   "metadata": {},
   "outputs": [],
   "source": [
    "def get_personal_information(text):\n",
    "    age = get_pattern_match('age (\\d+)',text)\n",
    "    full_name= get_pattern_match('Born(.*)\\n', text) #any type of characther after born until new line\n",
    "    birth_date =get_pattern_match('Born.*\\n(.*)\\(age',text)\n",
    "    birth_place = get_pattern_match('\\(age.*\\n(.*)',text)\n",
    "    \n",
    "    return {\n",
    "        'age':int(age),\n",
    "        'name':full_name.strip(),\n",
    "        'birth_date':birth_date.strip(),\n",
    "        'birth_place':birth_place.strip()\n",
    "        \n",
    "    }"
   ]
  },
  {
   "cell_type": "code",
   "execution_count": 7,
   "id": "c96a6381",
   "metadata": {},
   "outputs": [
    {
     "data": {
      "text/plain": [
       "{'age': 51,\n",
       " 'name': 'Elon Reeve Musk',\n",
       " 'birth_date': 'June 28, 1971',\n",
       " 'birth_place': 'Pretoria, Transvaal, South Africa'}"
      ]
     },
     "execution_count": 7,
     "metadata": {},
     "output_type": "execute_result"
    }
   ],
   "source": [
    "get_personal_information(text)"
   ]
  },
  {
   "cell_type": "code",
   "execution_count": null,
   "id": "c21a8039",
   "metadata": {},
   "outputs": [],
   "source": []
  },
  {
   "cell_type": "code",
   "execution_count": null,
   "id": "bd2a5a72",
   "metadata": {},
   "outputs": [],
   "source": []
  }
 ],
 "metadata": {
  "kernelspec": {
   "display_name": "Python 3 (ipykernel)",
   "language": "python",
   "name": "python3"
  },
  "language_info": {
   "codemirror_mode": {
    "name": "ipython",
    "version": 3
   },
   "file_extension": ".py",
   "mimetype": "text/x-python",
   "name": "python",
   "nbconvert_exporter": "python",
   "pygments_lexer": "ipython3",
   "version": "3.9.13"
  }
 },
 "nbformat": 4,
 "nbformat_minor": 5
}
